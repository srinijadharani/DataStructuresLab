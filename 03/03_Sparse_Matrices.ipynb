{
 "cells": [
  {
   "cell_type": "markdown",
   "metadata": {},
   "source": [
    "## Write Python programs for\n",
    "1. Representing sparse matrix \n",
    "2. Sparse matrix addition \n",
    "3. Sparse matrix transpose"
   ]
  },
  {
   "cell_type": "code",
   "execution_count": 1,
   "metadata": {},
   "outputs": [],
   "source": [
    "import numpy as np"
   ]
  },
  {
   "cell_type": "code",
   "execution_count": 2,
   "metadata": {},
   "outputs": [],
   "source": [
    "from scipy.sparse import csr_matrix"
   ]
  },
  {
   "cell_type": "markdown",
   "metadata": {},
   "source": [
    "**Representing a matrix using NumPy**"
   ]
  },
  {
   "cell_type": "code",
   "execution_count": 3,
   "metadata": {},
   "outputs": [],
   "source": [
    "A = np.matrix([[1, 0, 0, 0], [0, 2, 0, 0], [0, 0, 3, 0], [0, 0, 0, 4]])"
   ]
  },
  {
   "cell_type": "code",
   "execution_count": 4,
   "metadata": {},
   "outputs": [
    {
     "name": "stdout",
     "output_type": "stream",
     "text": [
      "[[1 0 0 0]\n",
      " [0 2 0 0]\n",
      " [0 0 3 0]\n",
      " [0 0 0 4]]\n"
     ]
    }
   ],
   "source": [
    "print(A)"
   ]
  },
  {
   "cell_type": "markdown",
   "metadata": {},
   "source": [
    "**1. Program to represent a sparse matrix.**"
   ]
  },
  {
   "cell_type": "code",
   "execution_count": 5,
   "metadata": {},
   "outputs": [
    {
     "data": {
      "text/plain": [
       "array([[0, 0, 0, 0],\n",
       "       [0, 0, 0, 0],\n",
       "       [0, 0, 0, 0]], dtype=int8)"
      ]
     },
     "execution_count": 5,
     "metadata": {},
     "output_type": "execute_result"
    }
   ],
   "source": [
    "csr_matrix((3, 4), dtype = np.int8).toarray()"
   ]
  },
  {
   "cell_type": "code",
   "execution_count": 10,
   "metadata": {},
   "outputs": [
    {
     "name": "stdout",
     "output_type": "stream",
     "text": [
      "Sparse Matrix:\n",
      "  (0, 0)\t1\n",
      "  (1, 1)\t2\n",
      "  (2, 2)\t3\n",
      "  (3, 3)\t4\n"
     ]
    }
   ],
   "source": [
    "sparse = csr_matrix(A)\n",
    "print(\"Sparse Matrix:\")\n",
    "print(sparse)"
   ]
  },
  {
   "cell_type": "code",
   "execution_count": 17,
   "metadata": {},
   "outputs": [],
   "source": [
    "row1 = np.array([0, 0, 1, 2, 2])\n",
    "col1 = np.array([0, 2, 2, 0, 2])\n",
    "data1 = np.array([1, 2, 3, 4, 5])\n",
    "sparse_matrix1 = csr_matrix((data1, (row1, col1)), shape = (3, 3)).toarray()"
   ]
  },
  {
   "cell_type": "code",
   "execution_count": 18,
   "metadata": {},
   "outputs": [
    {
     "name": "stdout",
     "output_type": "stream",
     "text": [
      "Sparse Matrix:\n",
      "[[1 0 2]\n",
      " [0 0 3]\n",
      " [4 0 5]]\n"
     ]
    }
   ],
   "source": [
    "# print sparse_matrix_repr\n",
    "print(\"Sparse Matrix:\")\n",
    "print(sparse_matrix_repr)"
   ]
  },
  {
   "cell_type": "markdown",
   "metadata": {},
   "source": [
    "**2. Program to add two sparse matrices.**"
   ]
  },
  {
   "cell_type": "code",
   "execution_count": 19,
   "metadata": {},
   "outputs": [
    {
     "name": "stdout",
     "output_type": "stream",
     "text": [
      "Addition of sparse_matrix1 and sparse_matrix2:\n",
      "[[ 1  0 11]\n",
      " [ 8  1  3]\n",
      " [ 4  0  5]]\n"
     ]
    }
   ],
   "source": [
    "row2 = np.array([0, 1, 1])\n",
    "col2 = np.array([2, 0, 1])\n",
    "data2 = np.array([9, 8, 1])\n",
    "sparse_matrix2 = csr_matrix((data2, (row2, col2)), shape = (3, 3)).toarray()\n",
    "sparse_add = sparse_matrix1 + sparse_matrix2\n",
    "print(\"Addition of sparse_matrix1 and sparse_matrix2:\")\n",
    "print(sparse_add)"
   ]
  },
  {
   "cell_type": "markdown",
   "metadata": {},
   "source": [
    "**3. Program to transpose a sparse matrix.**"
   ]
  },
  {
   "cell_type": "code",
   "execution_count": 20,
   "metadata": {},
   "outputs": [
    {
     "name": "stdout",
     "output_type": "stream",
     "text": [
      "Original Sparse Matrix is:\n",
      "[[0 0 9]\n",
      " [8 1 0]\n",
      " [0 9 3]]\n",
      "Transposed Sparse Matrix is:\n",
      "[[0 8 0]\n",
      " [0 1 9]\n",
      " [9 0 3]]\n"
     ]
    }
   ],
   "source": [
    "row3 = np.array([0, 1, 1, 2, 2])\n",
    "col3 = np.array([2, 0, 1, 1, 2])\n",
    "data3 = np.array([9, 8, 1, 9, 3])\n",
    "sparse_original = csr_matrix((data3, (row3, col3)), shape = (3, 3)).toarray()\n",
    "print(\"Original Sparse Matrix is:\")\n",
    "print(sparse_original)\n",
    "sparse_transpose = csr_matrix((data3, (col3, row3)), shape = (3, 3)).toarray()\n",
    "print(\"Transposed Sparse Matrix is:\")\n",
    "print(sparse_transpose)"
   ]
  }
 ],
 "metadata": {
  "kernelspec": {
   "display_name": "Python 3",
   "language": "python",
   "name": "python3"
  },
  "language_info": {
   "codemirror_mode": {
    "name": "ipython",
    "version": 3
   },
   "file_extension": ".py",
   "mimetype": "text/x-python",
   "name": "python",
   "nbconvert_exporter": "python",
   "pygments_lexer": "ipython3",
   "version": "3.8.5"
  }
 },
 "nbformat": 4,
 "nbformat_minor": 4
}
