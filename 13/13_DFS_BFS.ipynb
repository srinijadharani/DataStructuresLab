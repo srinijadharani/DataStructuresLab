{
 "cells": [
  {
   "cell_type": "markdown",
   "metadata": {},
   "source": [
    "## Write a program to implement \n",
    "1. Depth First Search \n",
    "2. Breadth First Search traversals on a graph."
   ]
  },
  {
   "cell_type": "markdown",
   "metadata": {},
   "source": [
    "**1. Program to implement DFS.**"
   ]
  },
  {
   "cell_type": "code",
   "execution_count": 16,
   "metadata": {},
   "outputs": [],
   "source": [
    "import numpy as np"
   ]
  },
  {
   "cell_type": "code",
   "execution_count": 17,
   "metadata": {},
   "outputs": [
    {
     "name": "stdout",
     "output_type": "stream",
     "text": [
      "Edges:\n",
      "0 -- 1\n",
      "0 -- 5\n",
      "0 -- 6\n",
      "1 -- 0\n",
      "1 -- 2\n",
      "1 -- 5\n",
      "1 -- 6\n",
      "2 -- 3\n",
      "2 -- 4\n",
      "2 -- 6\n",
      "3 -- 4\n",
      "4 -- 2\n",
      "4 -- 5\n",
      "5 -- 2\n",
      "5 -- 3\n",
      "6 -- 3\n",
      "DFS:\n",
      "5 2 3 4 6 "
     ]
    }
   ],
   "source": [
    "class Graph:\n",
    "    def __init__(self, vertices):\n",
    "        self.adjMat = np.zeros((vertices, vertices))\n",
    "        self.vertices = vertices\n",
    "        self.visited = [0] * vertices # 0 visted initially\n",
    "    \n",
    "    def insert_edge(self, u, v, x = 1):\n",
    "        self.adjMat[u][v] = x\n",
    "    \n",
    "    def remove_edge(self, u, v):\n",
    "        self.adjMat[u][v] = 0\n",
    "    \n",
    "    def exist_edge(self, u, v):\n",
    "        return self.adjMat[u][v] != 0\n",
    "    \n",
    "    def vertices_count(self):\n",
    "        return self.vertices\n",
    "    \n",
    "    def edge_count(self):\n",
    "        count = 0\n",
    "        for i in range(self.vertices):\n",
    "            for j in range(self.vertices):\n",
    "                if self.adjMat[i][j] != 0:\n",
    "                    count += 1\n",
    "        return count\n",
    "    \n",
    "    def vertices(self):\n",
    "        for i in range(self.vertices):\n",
    "            print(i, end = \" \")\n",
    "        print()\n",
    "    \n",
    "    def edges(self):\n",
    "        for i in range(self.vertices):\n",
    "            for j in range(self.vertices):\n",
    "                if self.adjMat[i][j] != 0:\n",
    "                    print(\"{} -- {}\" .format(i, j))\n",
    "    \n",
    "    def outdegree(self, v):\n",
    "        count = 0\n",
    "        for j in range(self.vertices):\n",
    "            if not self.adjMat[v][j] == 0:\n",
    "                count += 1\n",
    "        return count\n",
    "\n",
    "    def outdegree(self, v):\n",
    "        count = 0\n",
    "        for j in range(self.vertices):\n",
    "            if not self.adjMat[j][v] == 0:\n",
    "                count += 1\n",
    "        return count\n",
    "    \n",
    "    def display_adjMat(self):\n",
    "        print(self.adjMat)\n",
    "    \n",
    "    def DFS(self, s):\n",
    "        if self.visited[s] == 0:\n",
    "            print(s, end = \" \")\n",
    "            self.visited[s] = 1\n",
    "            for j in range(self.vertices):\n",
    "                if self.adjMat[s][j] == 1 and self.visited[j] == 0:\n",
    "                    self.DFS(j)\n",
    "G = Graph(7)\n",
    "G.insert_edge(0, 1)\n",
    "G.insert_edge(0, 5)\n",
    "G.insert_edge(0, 6)\n",
    "G.insert_edge(1, 0)\n",
    "G.insert_edge(1, 2)\n",
    "G.insert_edge(1, 5)\n",
    "G.insert_edge(1, 6)\n",
    "G.insert_edge(2, 3)\n",
    "G.insert_edge(2, 4)\n",
    "G.insert_edge(2, 6)\n",
    "G.insert_edge(3, 4)\n",
    "G.insert_edge(4, 2)\n",
    "G.insert_edge(4, 5)\n",
    "G.insert_edge(5, 2)\n",
    "G.insert_edge(5, 3)\n",
    "G.insert_edge(6, 3)\n",
    "print('Edges:')\n",
    "G.edges()\n",
    "print('DFS:')\n",
    "G.DFS(5)"
   ]
  },
  {
   "cell_type": "markdown",
   "metadata": {},
   "source": [
    "**2. Program to implement BFS algorithm.**"
   ]
  },
  {
   "cell_type": "code",
   "execution_count": 18,
   "metadata": {},
   "outputs": [
    {
     "name": "stdout",
     "output_type": "stream",
     "text": [
      "BFS:\n",
      "A B C D E F "
     ]
    }
   ],
   "source": [
    "graph = {\n",
    "  'A' : ['B','C'],\n",
    "  'B' : ['D', 'E'],\n",
    "  'C' : ['F'],\n",
    "  'D' : [],\n",
    "  'E' : ['F'],\n",
    "  'F' : []\n",
    "}\n",
    "\n",
    "visited = [] # List to keep track of visited nodes.\n",
    "queue = [] # Initialize a queue\n",
    "\n",
    "# bfs does remove and add. so think\n",
    "def bfs(visited, graph, node):\n",
    "    visited.append(node)\n",
    "    queue.append(node)\n",
    "\n",
    "    while queue:\n",
    "        s = queue.pop(0) \n",
    "        print (s, end = \" \") \n",
    "\n",
    "        for neighbour in graph[s]:\n",
    "            if neighbour not in visited:\n",
    "                visited.append(neighbour)\n",
    "                queue.append(neighbour)\n",
    "\n",
    "print(\"BFS:\")\n",
    "bfs(visited, graph, 'A')"
   ]
  }
 ],
 "metadata": {
  "kernelspec": {
   "display_name": "Python 3",
   "language": "python",
   "name": "python3"
  },
  "language_info": {
   "codemirror_mode": {
    "name": "ipython",
    "version": 3
   },
   "file_extension": ".py",
   "mimetype": "text/x-python",
   "name": "python",
   "nbconvert_exporter": "python",
   "pygments_lexer": "ipython3",
   "version": "3.8.5"
  }
 },
 "nbformat": 4,
 "nbformat_minor": 4
}
